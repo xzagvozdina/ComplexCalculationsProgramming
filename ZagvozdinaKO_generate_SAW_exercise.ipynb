{
 "cells": [
  {
   "cell_type": "markdown",
   "metadata": {},
   "source": [
    "# I. Generate all lattice walks, 2D square lattice"
   ]
  },
  {
   "cell_type": "code",
   "execution_count": 78,
   "metadata": {},
   "outputs": [],
   "source": [
    "# This I showed in class:\n",
    "\n",
    "\n",
    "steps = [(1, 0), (-1, 0), (0, 1), (0, -1)]\n",
    "\n",
    "def generate_walks(path, L):\n",
    "    \"\"\"Generate all random walks on the 2D square lattice.\"\"\"\n",
    "    if L == 0:\n",
    "        print(path)\n",
    "    else:\n",
    "        for dx, dy in steps:\n",
    "            x, y = path[-1]\n",
    "            pp = path.copy()\n",
    "            pp.append((x + dx, y + dy))\n",
    "            generate_walks(pp, L - 1)"
   ]
  },
  {
   "cell_type": "code",
   "execution_count": 79,
   "metadata": {
    "scrolled": true
   },
   "outputs": [
    {
     "name": "stdout",
     "output_type": "stream",
     "text": [
      "[(0, 0), (1, 0), (2, 0)]\n",
      "[(0, 0), (1, 0), (0, 0)]\n",
      "[(0, 0), (1, 0), (1, 1)]\n",
      "[(0, 0), (1, 0), (1, -1)]\n",
      "[(0, 0), (-1, 0), (0, 0)]\n",
      "[(0, 0), (-1, 0), (-2, 0)]\n",
      "[(0, 0), (-1, 0), (-1, 1)]\n",
      "[(0, 0), (-1, 0), (-1, -1)]\n",
      "[(0, 0), (0, 1), (1, 1)]\n",
      "[(0, 0), (0, 1), (-1, 1)]\n",
      "[(0, 0), (0, 1), (0, 2)]\n",
      "[(0, 0), (0, 1), (0, 0)]\n",
      "[(0, 0), (0, -1), (1, -1)]\n",
      "[(0, 0), (0, -1), (-1, -1)]\n",
      "[(0, 0), (0, -1), (0, 0)]\n",
      "[(0, 0), (0, -1), (0, -2)]\n"
     ]
    }
   ],
   "source": [
    "generate_walks([(0, 0)], 2)"
   ]
  },
  {
   "cell_type": "markdown",
   "metadata": {},
   "source": [
    "## Store the walks\n",
    "\n",
    "Printing walks is nice, but not very useful. Better construct a list of all walks, for postprocessing. To this end, add a `cache` parameter, which stores all generated walks."
   ]
  },
  {
   "cell_type": "code",
   "execution_count": 80,
   "metadata": {},
   "outputs": [],
   "source": [
    "steps = [(1, 0), (-1, 0), (0, 1), (0, -1)]\n",
    "\n",
    "def generate_walks_cache(path, L, cache):\n",
    "    if L == 0:\n",
    "        cache.append(path)\n",
    "    else:\n",
    "        for dx, dy in steps:\n",
    "            x, y = path[-1]\n",
    "            xy_new = (x + dx, y + dy)\n",
    "            pp = path.copy()\n",
    "            pp.append(xy_new)\n",
    "            generate_walks_cache(pp, L - 1, cache)"
   ]
  },
  {
   "cell_type": "code",
   "execution_count": 81,
   "metadata": {},
   "outputs": [
    {
     "data": {
      "text/plain": [
       "16"
      ]
     },
     "execution_count": 81,
     "metadata": {},
     "output_type": "execute_result"
    }
   ],
   "source": [
    "cache = []\n",
    "generate_walks_cache([(0, 0)], 2, cache)\n",
    "len(cache)"
   ]
  },
  {
   "cell_type": "markdown",
   "metadata": {},
   "source": [
    "## Task 0\n",
    "\n",
    "Compute the average end-to-end distance of random walks of a given length. What is the scaling of the end-to-end distance with the length of the walk? What is the scaling of the mean *square* end-to-end distance with the length?"
   ]
  },
  {
   "cell_type": "code",
   "execution_count": 82,
   "metadata": {},
   "outputs": [],
   "source": [
    "def end_to_end_distance(cache):\n",
    "    print(len(cache[0])-1)\n",
    "    avg_x = 0\n",
    "    avg_y = 0\n",
    "    norm_1 = 0\n",
    "    norm_2 = 0\n",
    "    for i in range(len(cache)):\n",
    "        x_0, y_0 = cache[i][0]\n",
    "        x_1, y_1 = cache[i][-1]\n",
    "        avg_x += (x_1 - x_0)/len(cache)\n",
    "        avg_y += (y_1 - y_0)/len(cache)\n",
    "        norm_1 += (abs(x_1 - x_0) + abs(y_1 - y_0))/len(cache)\n",
    "        norm_2 += ((x_1 - x_0)**2 + (y_1 - y_0)**2)/len(cache)\n",
    "    print((avg_x, avg_y))\n",
    "    print('Manhattan norm = ', norm_1)\n",
    "    print('Euclidean norm (the mean square end-to-end distance) = ', norm_2**(1/2))\n",
    "    print('Euclidean norm - square root of length of the walk = ', norm_2**(1/2) - (len(cache[0])-1)**(1/2))"
   ]
  },
  {
   "cell_type": "markdown",
   "metadata": {},
   "source": [
    "*Due to symmetry, the components of the average end-to-end vector equal to zero.\n",
    "The mean square end-to-end distance equals to the square root of the length of the walk.*"
   ]
  },
  {
   "cell_type": "code",
   "execution_count": 83,
   "metadata": {},
   "outputs": [
    {
     "name": "stdout",
     "output_type": "stream",
     "text": [
      "2\n",
      "(0.0, 0.0)\n",
      "Manhattan norm =  1.5\n",
      "Euclidean norm (the mean square end-to-end distance) =  1.4142135623730951\n",
      "Euclidean norm - square root of length of the walk =  0.0\n"
     ]
    }
   ],
   "source": [
    "end_to_end_distance(cache)"
   ]
  },
  {
   "cell_type": "markdown",
   "metadata": {},
   "source": [
    "# I. Generate all SAWs on a 2D square lattice\n",
    "\n",
    "A self-avoiding walk is a random walk where a lattice site can only be visited once."
   ]
  },
  {
   "cell_type": "code",
   "execution_count": 86,
   "metadata": {},
   "outputs": [],
   "source": [
    "# the dumbest way it could ever have been done\n",
    "\n",
    "steps = [(1, 0), (-1, 0), (0, 1), (0, -1)]\n",
    "\n",
    "def generate_SAWs(path, L):\n",
    "    cache_SAWs = []\n",
    "    generate_walks_cache(path, L, cache_SAWs)\n",
    "    cache_1 = cache_SAWs.copy()\n",
    "    for i in cache_1:\n",
    "        n = 0\n",
    "        for j in i:\n",
    "            i_copy = i.copy()\n",
    "            i_copy.remove(j)\n",
    "            if j not in i_copy:\n",
    "                n += 1\n",
    "        if n != len(i):\n",
    "            cache_SAWs.remove(i)\n",
    "    return cache_SAWs"
   ]
  },
  {
   "cell_type": "code",
   "execution_count": 92,
   "metadata": {
    "scrolled": true
   },
   "outputs": [
    {
     "data": {
      "text/plain": [
       "284"
      ]
     },
     "execution_count": 92,
     "metadata": {},
     "output_type": "execute_result"
    }
   ],
   "source": [
    "cache_SAWs = generate_SAWs([(0, 0)], 5)\n",
    "len(cache_SAWs)"
   ]
  },
  {
   "cell_type": "markdown",
   "metadata": {},
   "source": [
    "## Task 1\n",
    "\n",
    "How many walks of a given length are there? What is the mean end-to-end distance of walks of a given length? What is mean *square* of the end-to-end distance?"
   ]
  },
  {
   "cell_type": "markdown",
   "metadata": {
    "collapsed": true
   },
   "source": [
    "Let $C_n$ be the number of SAWs of length $n$ starting at the origin. There is a submultiplicative inequality which holds for Cn: \n",
    "$$C_{n+m} ≤ C_n C_m$$\n",
    "There exists $\\beta$ called the connective constant such that \n",
    "$$\\lim\\limits_{n→∞} \\dfrac{\\log C_n}{n} = \\beta.$$ \n",
    "Roughly speaking, $C_n ≈ β_n$. The value of $\\beta$  is not known and perhaps never will be. \n",
    "\n",
    "For d = 4 (d is for amount of steps in different directions) , the length of a SAW is expected to be $\\sqrt{n}$ with “logarithmic corrections”. \n",
    "\n",
    "[Random Walks: simple and self-avoiding // MASS Colloquium Notes of the talk given by Gregory F. Lawler By Hongxu Wei, John Hirdt and Xiaolan Yuan]"
   ]
  },
  {
   "cell_type": "code",
   "execution_count": 94,
   "metadata": {
    "scrolled": true
   },
   "outputs": [
    {
     "name": "stdout",
     "output_type": "stream",
     "text": [
      "5\n",
      "(-5.724587470723463e-17, -1.0408340855860843e-17)\n",
      "Manhattan norm =  3.7042253521126804\n",
      "Euclidean norm (the mean square end-to-end distance) =  3.0924715490510377\n",
      "Euclidean norm - square root of length of the walk =  0.8564035715512479\n"
     ]
    }
   ],
   "source": [
    "end_to_end_distance(cache_SAWs)"
   ]
  },
  {
   "cell_type": "markdown",
   "metadata": {},
   "source": [
    "*The components of the average end-to-end vector are nearly zero.*"
   ]
  },
  {
   "cell_type": "markdown",
   "metadata": {},
   "source": [
    "## Extra tasks (for fun, no credit, a possible basis of a course project)\n",
    "\n",
    "1. Triangular lattice\n",
    "2. Rewrite the recursive algorithm to use a queue"
   ]
  },
  {
   "cell_type": "code",
   "execution_count": 31,
   "metadata": {},
   "outputs": [],
   "source": [
    "# 1. Triangular lattice\n",
    "# 4 more types of steps added, that's all\n",
    "\n",
    "steps_tr = [(1, 0), (-1, 0), (0, 1), (0, -1), (1, 1), (-1, 1), (1, -1), (-1, -1)]\n",
    "\n",
    "def generate_walks2_tr(path, L, cache):\n",
    "    if L == 0:\n",
    "        cache.append(path)\n",
    "    else:\n",
    "        for dx, dy in steps_tr:\n",
    "            x, y = path[-1]\n",
    "            xy_new = (x + dx, y + dy)\n",
    "            pp = path.copy()\n",
    "            pp.append(xy_new)\n",
    "            generate_walks2(pp, L - 1, cache)"
   ]
  },
  {
   "cell_type": "code",
   "execution_count": 73,
   "metadata": {},
   "outputs": [
    {
     "data": {
      "text/plain": [
       "8"
      ]
     },
     "execution_count": 73,
     "metadata": {},
     "output_type": "execute_result"
    }
   ],
   "source": [
    "cache = []\n",
    "generate_walks2_tr([(0, 0)], 1, cache)\n",
    "len(cache)"
   ]
  }
 ],
 "metadata": {
  "kernelspec": {
   "display_name": "Python 3",
   "language": "python",
   "name": "python3"
  },
  "language_info": {
   "codemirror_mode": {
    "name": "ipython",
    "version": 3
   },
   "file_extension": ".py",
   "mimetype": "text/x-python",
   "name": "python",
   "nbconvert_exporter": "python",
   "pygments_lexer": "ipython3",
   "version": "3.6.5"
  }
 },
 "nbformat": 4,
 "nbformat_minor": 2
}
