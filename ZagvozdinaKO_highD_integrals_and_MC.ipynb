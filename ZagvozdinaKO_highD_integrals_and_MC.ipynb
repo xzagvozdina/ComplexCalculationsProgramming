{
 "cells": [
  {
   "cell_type": "markdown",
   "metadata": {},
   "source": [
    "# Excercise 1"
   ]
  },
  {
   "cell_type": "markdown",
   "metadata": {},
   "source": [
    "Implement integration over a rectangular domain with a double Legendre quadrature."
   ]
  },
  {
   "cell_type": "code",
   "execution_count": 44,
   "metadata": {},
   "outputs": [
    {
     "data": {
      "text/plain": [
       "8.0"
      ]
     },
     "execution_count": 44,
     "metadata": {},
     "output_type": "execute_result"
    }
   ],
   "source": [
    "import math\n",
    "from scipy.special import roots_legendre\n",
    "\n",
    "def legendre(ax, bx, ay, by, m, n, f):\n",
    "    #xx = [  for k in range(2, m)] #approximately\n",
    "    #yy = [  for k in range(2, n)]\n",
    "    #wx = [  for k in range(2, m)]\n",
    "    #wy = [  for k in range(2, n)]\n",
    "    xx, wx = roots_legendre(m)\n",
    "    yy, wy = roots_legendre(n)\n",
    "    \n",
    "    v = 0\n",
    "    \n",
    "    for i in range(m):\n",
    "        for j in range(n):\n",
    "            v += f((bx - ax) / 2 * xx[i] + (ax + bx) / 2, (by - ay) / 2 * yy[i] + (ay + by) / 2) * wx[i] * wy[j]\n",
    "    \n",
    "    return v\n",
    "\n",
    "def f(x, y):\n",
    "    return x + y\n",
    "\n",
    "legendre(0, 2, 0, 2, 2, 2, f)"
   ]
  },
  {
   "cell_type": "markdown",
   "metadata": {},
   "source": [
    "# Excercise 2"
   ]
  },
  {
   "cell_type": "markdown",
   "metadata": {},
   "source": [
    "Implement integration over a triangular domain with a mixed Legendre/Jacobi quadrature. "
   ]
  },
  {
   "cell_type": "code",
   "execution_count": 61,
   "metadata": {},
   "outputs": [
    {
     "name": "stdout",
     "output_type": "stream",
     "text": [
      "2.220446049250313e-16\n",
      "1.1102230246251565e-16\n",
      "4.440892098500626e-16\n"
     ]
    }
   ],
   "source": [
    "import math\n",
    "from scipy.special import roots_sh_legendre, roots_jacobi\n",
    "from numpy import allclose\n",
    "\n",
    "def jacobi_legendre(ax, bx, ay, m, n, f):\n",
    "    tt, wt = roots_sh_legendre(m)\n",
    "    xx, wx = roots_jacobi(n, 0, 1)\n",
    "    \n",
    "    v = 0\n",
    "    \n",
    "    for i in range(m):\n",
    "        for j in range(n):\n",
    "            v += f(0.5 + 0.5 * xx[j], tt[i] * (0.5 + 0.5 * xx[j])) * wt[i] * wx[j]\n",
    "    \n",
    "    return v / 4\n",
    "\n",
    "def f0(x, y):\n",
    "    return 1\n",
    "\n",
    "def f1(x, y):\n",
    "    return x + 2*y\n",
    "\n",
    "def f2(x, y):\n",
    "    return x**2 + y**2 + 1\n",
    "\n",
    "answer = {f0: 0.5, f1: 2/3, f2: 5/6}\n",
    "for f in [f0, f1, f2]:\n",
    "    print(abs(jacobi_legendre(0, 1, 0, 10, 10, f) - answer[f]))"
   ]
  },
  {
   "cell_type": "markdown",
   "metadata": {},
   "source": [
    "# Excercise 5"
   ]
  },
  {
   "cell_type": "markdown",
   "metadata": {},
   "source": [
    "Use the Sobol sequence to calculate the value of\n",
    "$$\n",
    "\\iint\\limits_D e^{-(x^2 + y^2)} \\, dx\\, dy  \\;,\n",
    "$$\n",
    "where $D$ is the unit square. Compare to the exact answer (which can be expressed in terms of the error function)."
   ]
  },
  {
   "cell_type": "code",
   "execution_count": 30,
   "metadata": {},
   "outputs": [
    {
     "name": "stdout",
     "output_type": "stream",
     "text": [
      "      10  0.5591819  0.5577463 0.00143559\n",
      "     100  0.5599091  0.5577463 0.00216285\n",
      "    1000  0.5579124  0.5577463 0.000166136\n",
      "   10000  0.5578148  0.5577463 6.85321e-05\n",
      " 1000000  0.5577471  0.5577463 7.80122e-07\n",
      "10000000  0.5577464  0.5577463 9.73227e-08\n"
     ]
    }
   ],
   "source": [
    "import numpy as np\n",
    "import sobol_seq\n",
    "from scipy.special import erf\n",
    "\n",
    "rndm = np.random.RandomState(12345)\n",
    "\n",
    "def func(x, y):\n",
    "    return np.exp(- x**2 - y**2)\n",
    "\n",
    "def inside(x, y):\n",
    "    return (x <= 1)*(y <= 1)\n",
    "\n",
    "def sample(N):\n",
    "    N = int(N)\n",
    "    x = sobol_seq.i4_sobol_generate(2, N)\n",
    "    accepted = inside(x[:, 0], x[:, 1])\n",
    "    denom = np.count_nonzero(accepted)\n",
    "    return np.sum(func(x[accepted, 0], x[accepted, 1]) / N), denom\n",
    "\n",
    "answer = np.pi / 4 * (erf(1))**2\n",
    "\n",
    "for n in [10, 100, 1000, 10000, 1e5, 1e6]:\n",
    "    res = sample(n)\n",
    "    err = res[0] - answer\n",
    "    print(\"%8d  %.7g  %.7g %g\" % (n, res[0], answer, err))"
   ]
  }
 ],
 "metadata": {
  "kernelspec": {
   "display_name": "Python 3",
   "language": "python",
   "name": "python3"
  },
  "language_info": {
   "codemirror_mode": {
    "name": "ipython",
    "version": 3
   },
   "file_extension": ".py",
   "mimetype": "text/x-python",
   "name": "python",
   "nbconvert_exporter": "python",
   "pygments_lexer": "ipython3",
   "version": "3.6.5"
  }
 },
 "nbformat": 4,
 "nbformat_minor": 2
}
