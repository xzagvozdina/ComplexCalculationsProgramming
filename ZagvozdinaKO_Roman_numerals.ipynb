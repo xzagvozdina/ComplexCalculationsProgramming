{
 "cells": [
  {
   "cell_type": "markdown",
   "metadata": {},
   "source": [
    "# Roman numerals"
   ]
  },
  {
   "cell_type": "markdown",
   "metadata": {},
   "source": [
    "## I. Roman numerals to decimals\n",
    "\n",
    "Write a function which receives a Roman numeral written out as a string, and returns an integer representing the decimal form of the input number. "
   ]
  },
  {
   "cell_type": "code",
   "execution_count": 6,
   "metadata": {},
   "outputs": [],
   "source": [
    "mapping = {\"I\" : 1, \n",
    "           \"V\" : 5,\n",
    "           \"X\" : 10,\n",
    "           \"L\" : 50,\n",
    "           \"C\" : 100,\n",
    "           \"D\" : 500,\n",
    "           \"M\" : 1000}"
   ]
  },
  {
   "cell_type": "code",
   "execution_count": 7,
   "metadata": {},
   "outputs": [],
   "source": [
    "def roman_to_decimal(rom):\n",
    "    # Numerals are read from the end. If the last value added to the result is greater than the next value read, \n",
    "    # the next value will be subtracted from the result.\n",
    "    dec = 0\n",
    "    last = 0 # contains last added value\n",
    "    for i in range(len(rom)):\n",
    "        if last > mapping[rom[-i-1]]: # getting numerals from the end\n",
    "            dec -= mapping[rom[-i-1]]\n",
    "        else:\n",
    "            dec += mapping[rom[-i-1]]\n",
    "        last = mapping[rom[-i-1]] # updating variable value\n",
    "    return dec"
   ]
  },
  {
   "cell_type": "markdown",
   "metadata": {},
   "source": [
    "Here are some tests for you to test your code. Your code must pass all of them. You also need to come up with several more tests (your choice)."
   ]
  },
  {
   "cell_type": "code",
   "execution_count": 8,
   "metadata": {},
   "outputs": [
    {
     "name": "stdout",
     "output_type": "stream",
     "text": [
      "True\n",
      "True\n",
      "True\n",
      "True\n",
      "True\n",
      "True\n",
      "True\n",
      "True\n",
      "True\n"
     ]
    }
   ],
   "source": [
    "# 4 test pairs added\n",
    "test_pairs = [(\"IX\", 9), (\"XI\", 11), (\"MCCII\", 1202), (\"MMXVIII\", 2018), (\"XLIX\", 49), \\\n",
    "              (\"XVIIII\", 19), (\"XIX\", 19), (\"MCDXLIV\", 1444), (\"MCMXCIX\", 1999)]\n",
    "\n",
    "for rom, dec in test_pairs:\n",
    "    converted = roman_to_decimal(rom)\n",
    "    print(converted == dec)"
   ]
  },
  {
   "cell_type": "markdown",
   "metadata": {},
   "source": [
    "## II. Decimal numbers to roman numerals.\n",
    "\n",
    "The maximum grade for first task (Roman to decimal) is 7 on the 10-point HSE scale. For extra credit, complete the second task: *given a decimal number, convert it to the Roman form*."
   ]
  },
  {
   "cell_type": "code",
   "execution_count": 1,
   "metadata": {},
   "outputs": [],
   "source": [
    "# Roman numerals are divided into pairs by order of magnitude of the decimal number\n",
    "roman_pairs = [('I', 'V'), ('X', 'L'), ('C', 'D'), ('M', )]\n",
    "\n",
    "def decimal_to_roman(dec):\n",
    "    \n",
    "    digits = [] # contains digits of the decimal number\n",
    "    while dec >= 1:\n",
    "        digits.append(int(dec % 10)) # adding digits to the list starting from the last\n",
    "        dec = (dec - (dec % 10)) / 10 # reducing the decimal number by the last digit\n",
    "        \n",
    "    # adding zeros if there are less than 4 digits in the number\n",
    "    if len(digits) < 4:\n",
    "        for i in range(4-len(digits)):\n",
    "            digits.append(0) \n",
    "        \n",
    "    rom = \"\"\n",
    "    \n",
    "    # starting by adding 'M's\n",
    "    for i in range(3, len(digits)):\n",
    "        rom += roman_pairs[3][0] * int(digits[i] * (10**(i-3)))\n",
    "        \n",
    "     # adding other roman numerals depending on the digit of same order of magnitude\n",
    "    for i in range(3):\n",
    "        one, five = roman_pairs[2-i]\n",
    "        if (0 <= digits[2-i] <= 3):\n",
    "            rom += one * digits[2-i]\n",
    "        elif (5 <= digits[2-i] <= 8):\n",
    "            rom += five + one * (digits[2-i]-5)\n",
    "        elif digits[2-i] == 4:\n",
    "            rom += one + five\n",
    "        else:\n",
    "            rom += one + roman_pairs[2-i+1][0]\n",
    "    return rom"
   ]
  },
  {
   "cell_type": "markdown",
   "metadata": {},
   "source": [
    "You need to come up with test cases to show that your conversion works as expected. \n",
    "NB: the conversion is ambiguous in some cases. Any valid conversion is accepted. "
   ]
  },
  {
   "cell_type": "code",
   "execution_count": 2,
   "metadata": {},
   "outputs": [
    {
     "name": "stdout",
     "output_type": "stream",
     "text": [
      "True\n",
      "True\n",
      "True\n",
      "True\n",
      "True\n",
      "True\n",
      "True\n",
      "True\n"
     ]
    }
   ],
   "source": [
    "# same test pairs, just without (\"XVIIII\", 19), I use different type of conversation\n",
    "test_pairs = [(\"IX\", 9), (\"XI\", 11), (\"MCCII\", 1202), (\"MMXVIII\", 2018), (\"XLIX\", 49),\\\n",
    "              (\"XIX\", 19), (\"MCDXLIV\", 1444), (\"MCMXCIX\", 1999)]\n",
    "\n",
    "for rom, dec in test_pairs:\n",
    "    converted = decimal_to_roman(dec)\n",
    "    print(converted == rom)"
   ]
  }
 ],
 "metadata": {
  "kernelspec": {
   "display_name": "Python 3",
   "language": "python",
   "name": "python3"
  },
  "language_info": {
   "codemirror_mode": {
    "name": "ipython",
    "version": 3
   },
   "file_extension": ".py",
   "mimetype": "text/x-python",
   "name": "python",
   "nbconvert_exporter": "python",
   "pygments_lexer": "ipython3",
   "version": "3.6.5"
  }
 },
 "nbformat": 4,
 "nbformat_minor": 2
}
