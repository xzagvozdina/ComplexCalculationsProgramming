{
 "cells": [
  {
   "cell_type": "markdown",
   "metadata": {},
   "source": [
    "## Solve a quadratic equation, $x^2 + b x + c = 0$."
   ]
  },
  {
   "cell_type": "markdown",
   "metadata": {},
   "source": [
    "The roots of the general quadratic equation:\n",
    "$$x_{1,2} = \\dfrac{-b \\pm \\sqrt{b^2 - 4 c}}{2}.$$\n",
    "If $\\left|b\\right| >> \\left|c\\right|$ and $b > 0$, then $-b + \\sqrt{b^2 - 4 c} \\approx 0$. In order to avoid loss of accuracy of calculations, it is necessary to make the following transformations:\n",
    "$$x_1 = \\dfrac{\\left(-b + \\sqrt{b^2 - 4 c}\\right) \\cdot \\left(b + \\sqrt{b^2 - 4 c}\\right)}{2 \\cdot \\left(b + \\sqrt{b^2 - 4 c}\\right)} = \\dfrac{-2 c}{b + \\sqrt{b^2 - 4 c}}, \\; x_2 = -b - x_1.$$\n",
    "The same should be done when $\\left|b\\right| >> \\left|c\\right|$ and $b < 0$:\n",
    "$$x_2 = \\dfrac{\\left(-b - \\sqrt{b^2 - 4 c}\\right) \\cdot \\left(b - \\sqrt{b^2 - 4 c}\\right)}{2 \\cdot \\left(b - \\sqrt{b^2 - 4 c}\\right)} = \\dfrac{-2 c}{b - \\sqrt{b^2 - 4 c}}, \\; x_1 = -b - x_2.$$"
   ]
  },
  {
   "cell_type": "code",
   "execution_count": 11,
   "metadata": {},
   "outputs": [],
   "source": [
    "def solve_quad(b, c):\n",
    "    if b==0 and c==0:\n",
    "        x1 = 0\n",
    "        x2 = 0\n",
    "    elif b > 0:\n",
    "        x1 = -2*c/(b+(b*b-4*c)**0.5)\n",
    "        x2=-b-x1\n",
    "    elif b < 0:\n",
    "        x1 = -2*c/(b-(b*b-4*c)**0.5)\n",
    "        x2=-b-x1\n",
    "    return x1, x2"
   ]
  },
  {
   "cell_type": "markdown",
   "metadata": {},
   "source": [
    "Test the function"
   ]
  },
  {
   "cell_type": "code",
   "execution_count": 12,
   "metadata": {},
   "outputs": [],
   "source": [
    "from numpy import allclose"
   ]
  },
  {
   "cell_type": "code",
   "execution_count": 13,
   "metadata": {},
   "outputs": [],
   "source": [
    "variants = [{'b': 4.0, 'c': 3.0},\n",
    "            {'b': 2.0, 'c': 1.0},\n",
    "            {'b': 0.5, 'c': 4.0},\n",
    "            {'b': 1e10, 'c': 3.0},\n",
    "            {'b': -1e10, 'c': 4.0},\n",
    "            {'b': -1e-10, 'c': -4.0},\n",
    "           {'b': 1e-10, 'c': -4.0}]"
   ]
  },
  {
   "cell_type": "code",
   "execution_count": 14,
   "metadata": {},
   "outputs": [
    {
     "name": "stdout",
     "output_type": "stream",
     "text": [
      "True\n",
      "True\n",
      "True\n",
      "True\n",
      "True\n",
      "True\n",
      "True\n"
     ]
    }
   ],
   "source": [
    "for var in variants:\n",
    "    x1, x2 = solve_quad(**var)\n",
    "    print(allclose(x1*x2, var['c']))"
   ]
  }
 ],
 "metadata": {
  "kernelspec": {
   "display_name": "Python 3",
   "language": "python",
   "name": "python3"
  },
  "language_info": {
   "codemirror_mode": {
    "name": "ipython",
    "version": 3
   },
   "file_extension": ".py",
   "mimetype": "text/x-python",
   "name": "python",
   "nbconvert_exporter": "python",
   "pygments_lexer": "ipython3",
   "version": "3.6.5"
  }
 },
 "nbformat": 4,
 "nbformat_minor": 2
}
